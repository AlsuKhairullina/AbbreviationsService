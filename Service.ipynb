{
  "nbformat": 4,
  "nbformat_minor": 0,
  "metadata": {
    "colab": {
      "provenance": [],
      "gpuType": "T4"
    },
    "kernelspec": {
      "name": "python3",
      "display_name": "Python 3"
    },
    "language_info": {
      "name": "python"
    },
    "accelerator": "GPU"
  },
  "cells": [
    {
      "cell_type": "code",
      "execution_count": null,
      "metadata": {
        "id": "qTzVIOrQT5lw"
      },
      "outputs": [],
      "source": [
        "import requests\n",
        "from bs4 import BeautifulSoup"
      ]
    },
    {
      "cell_type": "code",
      "source": [
        "#urlA = \"https://www.math.unipd.it/~derobbio/mathrev/a.htm\"\n",
        "urlB = \"https://www.math.unipd.it/~derobbio/mathrev/b.htm\"\n",
        "#urlC = \"https://www.math.unipd.it/~derobbio/mathrev/c.htm\"\n",
        "\n",
        "urls = [urlB]"
      ],
      "metadata": {
        "id": "8oUDmLmOvhlW"
      },
      "execution_count": null,
      "outputs": []
    },
    {
      "cell_type": "code",
      "source": [
        "htmls = []\n",
        "for url in urls:\n",
        "  r = requests.get(url)\n",
        "  htmls.append(r.text)"
      ],
      "metadata": {
        "id": "nrr4oOE4vo2X"
      },
      "execution_count": null,
      "outputs": []
    },
    {
      "cell_type": "code",
      "source": [
        "soups = []\n",
        "for html in htmls:\n",
        "  soup = BeautifulSoup(html, 'html.parser')\n",
        "  soups.append(soup)"
      ],
      "metadata": {
        "id": "WdpVuqotv26K"
      },
      "execution_count": null,
      "outputs": []
    },
    {
      "cell_type": "code",
      "source": [
        "tables = []\n",
        "for soup in soups:\n",
        "  table = soup.findAll('dd')\n",
        "  tables.append(table)"
      ],
      "metadata": {
        "id": "sMu_mZvbKxHo"
      },
      "execution_count": null,
      "outputs": []
    },
    {
      "cell_type": "code",
      "source": [
        "replacements = {\n",
        "    \"{\\\\rm o}$\": \"\",\n",
        "    \"\\r\\n\": \"\",\n",
        "    \"\\\\u\\\\i \": \"\"\n",
        "}"
      ],
      "metadata": {
        "id": "JAQZQ7CPDDph"
      },
      "execution_count": null,
      "outputs": []
    },
    {
      "cell_type": "code",
      "source": [
        "def clear(text):\n",
        "  for key, value in replacements.items():\n",
        "    text = text.replace(key, value)\n",
        "  return text"
      ],
      "metadata": {
        "id": "0x_bQlINzMtN"
      },
      "execution_count": null,
      "outputs": []
    },
    {
      "cell_type": "code",
      "source": [
        "abbrs = []\n",
        "names = []\n",
        "\n",
        "for table in tables:\n",
        "  for row in table:\n",
        "    abbr = row.find('strong').text\n",
        "    clear_abbr = clear(abbr)\n",
        "    abbrs.append(clear_abbr)\n",
        "\n",
        "    abbr_tag = row.find('strong').next_sibling\n",
        "    name = clear(abbr_tag)\n",
        "    names.append(name)"
      ],
      "metadata": {
        "id": "4ocyOkF6UK4I"
      },
      "execution_count": null,
      "outputs": []
    },
    {
      "cell_type": "code",
      "source": [
        "series = {}\n",
        "\n",
        "for key, value in zip(names, abbrs):\n",
        "  series[key] = value"
      ],
      "metadata": {
        "id": "-q12YkxSdXVW"
      },
      "execution_count": null,
      "outputs": []
    },
    {
      "cell_type": "code",
      "source": [
        "import json\n",
        "\n",
        "with open(\"sample.json\", \"w\") as outfile:\n",
        "    json.dump(series, outfile)"
      ],
      "metadata": {
        "id": "gJRVS1_IRZab"
      },
      "execution_count": null,
      "outputs": []
    }
  ]
}